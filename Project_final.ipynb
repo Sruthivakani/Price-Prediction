{
  "nbformat": 4,
  "nbformat_minor": 0,
  "metadata": {
    "colab": {
      "provenance": []
    },
    "kernelspec": {
      "name": "python3",
      "display_name": "Python 3"
    },
    "language_info": {
      "name": "python"
    }
  },
  "cells": [
    {
      "cell_type": "code",
      "source": [
        "import pandas as pd\n",
        "from sklearn.preprocessing import LabelEncoder\n",
        "from sklearn.ensemble import RandomForestRegressor\n",
        "from sklearn.model_selection import train_test_split\n",
        "from sklearn.metrics import mean_squared_log_error\n",
        "import numpy as np\n",
        "\n",
        "# Load the training and testing datasets\n",
        "train_data = pd.read_csv('Train.csv')\n",
        "test_data = pd.read_csv('Test.csv')\n",
        "\n",
        "# Combine train and test data to fit LabelEncoder on all data\n",
        "combined_data = pd.concat([train_data, test_data], ignore_index=True)\n",
        "\n",
        "# Initialize the LabelEncoder\n",
        "categorical_columns = ['Package Type', 'Destination', 'Start City', 'Itinerary', 'Sightseeing Places Covered']\n",
        "label_encoder = LabelEncoder()\n",
        "\n",
        "# Apply Label Encoding to each of the selected categorical columns\n",
        "for col in categorical_columns:\n",
        "    combined_data[col + '_Encoded'] = label_encoder.fit_transform(combined_data[col])\n",
        "\n",
        "# Split combined data back into train and test sets\n",
        "train_data = combined_data.iloc[:len(train_data)].copy()\n",
        "test_data = combined_data.iloc[len(train_data):].copy()\n",
        "\n",
        "# Drop unnecessary columns from train_data and test_data\n",
        "columns_to_drop = ['Uniq Id', 'Package Name', 'Package Type', 'Airline', 'Destination', 'Places Covered',\n",
        "                   'Hotel Details', 'Start City', 'Itinerary', 'Sightseeing Places Covered', 'Cancellation Rules']\n",
        "train_data.drop(columns=columns_to_drop, inplace=True)\n",
        "test_data.drop(columns=columns_to_drop, inplace=True)\n",
        "\n",
        "# Convert 'Travel Date' to datetime format and extract year, month, day\n",
        "train_data['Travel Date'] = pd.to_datetime(train_data['Travel Date'], format='%d-%m-%Y')\n",
        "train_data['Travel Year'] = train_data['Travel Date'].dt.year\n",
        "train_data['Travel Month'] = train_data['Travel Date'].dt.month\n",
        "train_data['Travel Day'] = train_data['Travel Date'].dt.day\n",
        "train_data.drop(columns=['Travel Date'], inplace=True)\n",
        "\n",
        "test_data['Travel Date'] = pd.to_datetime(test_data['Travel Date'], format='%d-%m-%Y')\n",
        "test_data['Travel Year'] = test_data['Travel Date'].dt.year\n",
        "test_data['Travel Month'] = test_data['Travel Date'].dt.month\n",
        "test_data['Travel Day'] = test_data['Travel Date'].dt.day\n",
        "test_data.drop(columns=['Travel Date'], inplace=True)\n",
        "\n",
        "# Ensure that both datasets have the same columns\n",
        "X = train_data.drop(columns=['Per Person Price'])\n",
        "y = train_data['Per Person Price']\n",
        "\n",
        "# Align the test set with the training set\n",
        "test_data = test_data[X.columns]\n",
        "\n",
        "# Split the data into training and validation sets\n",
        "X_train, X_valid, y_train, y_valid = train_test_split(X, y, test_size=0.2, random_state=42)\n",
        "\n",
        "# Train a RandomForestRegressor model\n",
        "model = RandomForestRegressor(n_estimators=100, random_state=42)\n",
        "model.fit(X_train, y_train)\n",
        "\n",
        "# Predict and evaluate on the validation set\n",
        "y_pred = model.predict(X_valid)\n",
        "rmsle = np.sqrt(mean_squared_log_error(y_valid, y_pred))\n",
        "print(f'RMSLE: {rmsle}')\n",
        "\n",
        "# Predict on the test set\n",
        "test_data['Per Person Price'] = model.predict(test_data)\n",
        "\n",
        "# Prepare the submission file\n",
        "submission = test_data[['Per Person Price']]\n",
        "submission.to_csv('submission.csv', index=False)\n"
      ],
      "metadata": {
        "colab": {
          "base_uri": "https://localhost:8080/"
        },
        "id": "nWzLleMT5Tkr",
        "outputId": "f4b32bab-0001-43d6-bb0b-2525e07073f6"
      },
      "execution_count": 1,
      "outputs": [
        {
          "output_type": "stream",
          "name": "stdout",
          "text": [
            "RMSLE: 0.2560462867804376\n"
          ]
        }
      ]
    }
  ]
}